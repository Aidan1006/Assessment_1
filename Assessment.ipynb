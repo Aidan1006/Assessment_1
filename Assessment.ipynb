{
  "nbformat": 4,
  "nbformat_minor": 0,
  "metadata": {
    "colab": {
      "provenance": [],
      "authorship_tag": "ABX9TyNKeocEevZtzJkQZLinabsK",
      "include_colab_link": true
    },
    "kernelspec": {
      "name": "python3",
      "display_name": "Python 3"
    },
    "language_info": {
      "name": "python"
    }
  },
  "cells": [
    {
      "cell_type": "markdown",
      "metadata": {
        "id": "view-in-github",
        "colab_type": "text"
      },
      "source": [
        "<a href=\"https://colab.research.google.com/github/Aidan1006/Assessment_1/blob/main/Assessment.ipynb\" target=\"_parent\"><img src=\"https://colab.research.google.com/assets/colab-badge.svg\" alt=\"Open In Colab\"/></a>"
      ]
    },
    {
      "cell_type": "code",
      "execution_count": 1,
      "metadata": {
        "colab": {
          "base_uri": "https://localhost:8080/"
        },
        "id": "rm555qQEvk9b",
        "outputId": "78eb16ba-839d-4dc1-f9a1-453c7b981d92"
      },
      "outputs": [
        {
          "output_type": "stream",
          "name": "stdout",
          "text": [
            "   mark1  mark2  mark3\n",
            "0     50     12     24\n",
            "1     68      0     56\n",
            "2     90     45     78\n",
            "3     56     30     90\n",
            "4    100      2     99\n",
            "5     98     50      1\n",
            "6     78      6     45\n",
            "7     60     17     56\n"
          ]
        }
      ],
      "source": [
        "import pandas as pd\n",
        "\n",
        "data1 = {\n",
        "    \"mark1\": [50,68,90,56,100,98,78,60],\n",
        "    \"mark2\": [12,0,45,30,2,50,6,17],\n",
        "    \"mark3\": [24,56,78,90,99,1,45,56]\n",
        "}\n",
        "df = pd.DataFrame(data1)\n",
        "\n",
        "print(df)"
      ]
    },
    {
      "cell_type": "code",
      "source": [
        "#This is a data frame consist of dataset of 3 marks for 3 test in class CS2496A1. From the dataset below, we want to find the sum of this 3 marks for each student to calculate the average of the marks the student get for this assessment given to detect whether their average is more than 50 marks. After that, they will calculate the percentage receive by the student to get marks for their assessment percentage by 30%.\n",
        "\n",
        "df['sum'] = df['mark1'] + df['mark2'] + df['mark3']\n",
        "\n",
        "#2nd calculation\n",
        "df['average'] = df['sum'] / 3\n",
        "df['avg_50'] = df['average'] > 50\n",
        "\n",
        "#3rd calculation\n",
        "df['markAsses'] = (df['sum']/300) * 30\n",
        "\n",
        "print(df)"
      ],
      "metadata": {
        "colab": {
          "base_uri": "https://localhost:8080/"
        },
        "id": "xLEKXcLQvmH2",
        "outputId": "73c39bfa-761e-4ccc-ad7f-a35de7e43ffe"
      },
      "execution_count": 3,
      "outputs": [
        {
          "output_type": "stream",
          "name": "stdout",
          "text": [
            "   mark1  mark2  mark3  sum    average  avg_50  markAsses\n",
            "0     50     12     24   86  28.666667   False        8.6\n",
            "1     68      0     56  124  41.333333   False       12.4\n",
            "2     90     45     78  213  71.000000    True       21.3\n",
            "3     56     30     90  176  58.666667    True       17.6\n",
            "4    100      2     99  201  67.000000    True       20.1\n",
            "5     98     50      1  149  49.666667   False       14.9\n",
            "6     78      6     45  129  43.000000   False       12.9\n",
            "7     60     17     56  133  44.333333   False       13.3\n"
          ]
        }
      ]
    },
    {
      "cell_type": "markdown",
      "source": [],
      "metadata": {
        "id": "a3pdKUpkxqYJ"
      }
    },
    {
      "cell_type": "code",
      "source": [
        "import pandas as pd\n",
        "\n",
        "shoes = pd.read_csv(shoes_dataset.xlsx)"
      ],
      "metadata": {
        "colab": {
          "base_uri": "https://localhost:8080/",
          "height": 207
        },
        "id": "EktyVvo8v7J-",
        "outputId": "67bbedaa-b3a6-477a-a6fb-9d0b9dc73afb"
      },
      "execution_count": 13,
      "outputs": [
        {
          "output_type": "error",
          "ename": "NameError",
          "evalue": "ignored",
          "traceback": [
            "\u001b[0;31m---------------------------------------------------------------------------\u001b[0m",
            "\u001b[0;31mNameError\u001b[0m                                 Traceback (most recent call last)",
            "\u001b[0;32m<ipython-input-13-4491504fa6d0>\u001b[0m in \u001b[0;36m<cell line: 3>\u001b[0;34m()\u001b[0m\n\u001b[1;32m      1\u001b[0m \u001b[0;32mimport\u001b[0m \u001b[0mpandas\u001b[0m \u001b[0;32mas\u001b[0m \u001b[0mpd\u001b[0m\u001b[0;34m\u001b[0m\u001b[0;34m\u001b[0m\u001b[0m\n\u001b[1;32m      2\u001b[0m \u001b[0;34m\u001b[0m\u001b[0m\n\u001b[0;32m----> 3\u001b[0;31m \u001b[0mshoes\u001b[0m \u001b[0;34m=\u001b[0m \u001b[0mpd\u001b[0m\u001b[0;34m.\u001b[0m\u001b[0mread_csv\u001b[0m\u001b[0;34m(\u001b[0m\u001b[0mshoes_dataset\u001b[0m\u001b[0;34m.\u001b[0m\u001b[0mxlsx\u001b[0m\u001b[0;34m)\u001b[0m\u001b[0;34m\u001b[0m\u001b[0;34m\u001b[0m\u001b[0m\n\u001b[0m",
            "\u001b[0;31mNameError\u001b[0m: name 'shoes_dataset' is not defined"
          ]
        }
      ]
    },
    {
      "cell_type": "markdown",
      "source": [],
      "metadata": {
        "id": "6HKAIo7CxpDC"
      }
    },
    {
      "cell_type": "code",
      "source": [],
      "metadata": {
        "id": "UJvvoySIwW5t"
      },
      "execution_count": null,
      "outputs": []
    }
  ]
}